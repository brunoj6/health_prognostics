{
 "cells": [
  {
   "cell_type": "code",
   "execution_count": 26,
   "id": "1f4c94c8",
   "metadata": {},
   "outputs": [
    {
     "ename": "IndentationError",
     "evalue": "expected an indented block (<ipython-input-26-f707dac35e79>, line 31)",
     "output_type": "error",
     "traceback": [
      "\u001b[0;36m  File \u001b[0;32m\"<ipython-input-26-f707dac35e79>\"\u001b[0;36m, line \u001b[0;32m31\u001b[0m\n\u001b[0;31m    if health_indicator < 0:\u001b[0m\n\u001b[0m    ^\u001b[0m\n\u001b[0;31mIndentationError\u001b[0m\u001b[0;31m:\u001b[0m expected an indented block\n"
     ]
    }
   ],
   "source": [
    "%matplotlib inline\n",
    "import pandas as pd\n",
    "import matplotlib.pyplot as plt \n",
    "import seaborn as sns \n",
    "sns.set_style('white') \n",
    "sns.set_context('talk')\n",
    "import pyNetLogo\n",
    "netlogo = pyNetLogo.NetLogoLink\n",
    "\n",
    "import random\n",
    "import numpy as np\n",
    "from sklearn.linear_model import LinearRegression\n",
    "\n",
    "# Global Variables\n",
    "a = 1\n",
    "b = 1\n",
    "time_final = 0\n",
    "time_local = 0\n",
    "\n",
    "# Update Health Indicator \n",
    "def update_health_indicator(a, b, time_final):\n",
    "    health_indicator[index] = a * (1 - exp(-b * (time_local - time_final))) + error\n",
    "    \n",
    "# Update Virtual Asset\n",
    "def update_virtual_asset():\n",
    "    if health_indicator >= 0:\n",
    "        time_local += 1\n",
    "        if agent_fault == False:\n",
    "            # Update Agent Connections\n",
    "            # Send HI to higher agent, is this just update next thing and break?\n",
    "    if health_indicator < 0:\n",
    "        agent_fault = True \n",
    "        health_indicator = 0\n",
    "        time_local = 0\n",
    "        \n",
    "# Generate Random Initial Triplets\n",
    "def generate_random_triplets():\n",
    "    random_value = random.randint(1,3) \n",
    "    if random_value == 1:\n",
    "        return (0.25, 0.025, 25)\n",
    "    if random_value == 2:\n",
    "        return (0.5, 0.050, 50)\n",
    "    if random_value == 3:\n",
    "        return (0.75, 0.075, 75)\n",
    "    \n",
    "# Update Digital Twin \n",
    "def update_digital_twin():\n",
    "    # Still confused what data is being fit using least squares? \n",
    "    if agent_fault == False:\n",
    "        \n",
    "    \n"
   ]
  },
  {
   "cell_type": "code",
   "execution_count": 21,
   "id": "a4f07a1f",
   "metadata": {},
   "outputs": [
    {
     "name": "stdout",
     "output_type": "stream",
     "text": [
      "3\n"
     ]
    }
   ],
   "source": [
    "import random\n",
    "print(random.randint(1,3))"
   ]
  },
  {
   "cell_type": "code",
   "execution_count": null,
   "id": "1ab4cb5a",
   "metadata": {},
   "outputs": [],
   "source": []
  }
 ],
 "metadata": {
  "kernelspec": {
   "display_name": "Python 3",
   "language": "python",
   "name": "python3"
  },
  "language_info": {
   "codemirror_mode": {
    "name": "ipython",
    "version": 3
   },
   "file_extension": ".py",
   "mimetype": "text/x-python",
   "name": "python",
   "nbconvert_exporter": "python",
   "pygments_lexer": "ipython3",
   "version": "3.8.10"
  }
 },
 "nbformat": 4,
 "nbformat_minor": 5
}
