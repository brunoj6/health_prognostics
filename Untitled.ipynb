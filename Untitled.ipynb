{
 "cells": [
  {
   "cell_type": "code",
   "execution_count": 51,
   "id": "8f3e5da6",
   "metadata": {},
   "outputs": [
    {
     "ename": "IndentationError",
     "evalue": "expected an indented block (<ipython-input-51-c225254024b0>, line 28)",
     "output_type": "error",
     "traceback": [
      "\u001b[0;36m  File \u001b[0;32m\"<ipython-input-51-c225254024b0>\"\u001b[0;36m, line \u001b[0;32m28\u001b[0m\n\u001b[0;31m    if health_indicator < 0:\u001b[0m\n\u001b[0m    ^\u001b[0m\n\u001b[0;31mIndentationError\u001b[0m\u001b[0;31m:\u001b[0m expected an indented block\n"
     ]
    }
   ],
   "source": [
    "%matplotlib inline\n",
    "import pandas as pd\n",
    "import matplotlib.pyplot as plt \n",
    "import seaborn as sns \n",
    "sns.set_style('white') \n",
    "sns.set_context('talk')\n",
    "import pyNetLogo\n",
    "netlogo = pyNetLogo.NetLogoLink\n",
    "\n",
    "import random\n",
    "import numpy as np\n",
    "from sklearn.linear_model import LinearRegression\n",
    "\n",
    "# Global Variables\n",
    "agent_index = [0,1,2]\n",
    "\n",
    "# Update Health Indicator \n",
    "def update_health_indicator(a, b, time_final):\n",
    "    health_indicator[index] = a * (1 - exp(-b * (time_local - time_final))) + error\n",
    "    \n",
    "# Update Virtual Asset\n",
    "def update_virtual_asset():\n",
    "    if health_indicator >= 0:\n",
    "        time_local += 1\n",
    "        if agent_fault == False:\n",
    "            # Updating agent connections --> cluster?\n",
    "            # Send HI to higher agent --> update next agent then break?\n",
    "    if health_indicator < 0:\n",
    "        agent_fault = True \n",
    "        health_indicator = 0\n",
    "        time_local = 0\n",
    "        \n",
    "# Generate Random Initial Triplets\n",
    "def generate_random_triplets():\n",
    "    random_value = random.randint(1,3) \n",
    "    if random_value == 1:\n",
    "        return (0.25, 0.025, 25)\n",
    "    if random_value == 2:\n",
    "        return (0.5, 0.050, 50)\n",
    "    if random_value == 3:\n",
    "        return (0.75, 0.075, 75)\n",
    "    \n",
    "# Update Digital Twin \n",
    "def update_digital_twin():\n",
    "    # Least Squares Regression\n",
    "    for i in agent_index:\n",
    "        digital_twin_triplet[i] = generate_random_triplets() # Generate N = len.agent_index triplets \n",
    "        X = np.array(digital_twin_triplet)\n",
    "        y = np.dot(X, np.array([0.5, 0.050, 50])) # Need to finish least squares regression\n",
    "        reg = LinearRegression().fit(X, y)\n",
    "        reg.score(X,y)\n",
    "    if agent_fault == False:\n",
    "        if time_local > time_final * weight_time:\n",
    "            preventive_maintain_count += 1\n",
    "    if agent_fault == True:\n",
    "        corrective_maintain_count += 1\n",
    "        \n",
    "    \n"
   ]
  },
  {
   "cell_type": "code",
   "execution_count": 56,
   "id": "1104c967",
   "metadata": {},
   "outputs": [
    {
     "name": "stderr",
     "output_type": "stream",
     "text": [
      "<ipython-input-52-8f606d6a5cf0>:21: VisibleDeprecationWarning: Creating an ndarray from ragged nested sequences (which is a list-or-tuple of lists-or-tuples-or ndarrays with different lengths or shapes) is deprecated. If you meant to do this, you must specify 'dtype=object' when creating the ndarray.\n",
      "  X = np.array(digital_twin_triplet)\n"
     ]
    },
    {
     "ename": "TypeError",
     "evalue": "can't multiply sequence by non-int of type 'float'",
     "output_type": "error",
     "traceback": [
      "\u001b[0;31m---------------------------------------------------------------------------\u001b[0m",
      "\u001b[0;31mTypeError\u001b[0m                                 Traceback (most recent call last)",
      "\u001b[0;32m<ipython-input-56-a0eff6f2296f>\u001b[0m in \u001b[0;36m<module>\u001b[0;34m\u001b[0m\n\u001b[1;32m      7\u001b[0m \u001b[0magent_index\u001b[0m \u001b[0;34m=\u001b[0m \u001b[0;34m[\u001b[0m\u001b[0;36m0\u001b[0m\u001b[0;34m,\u001b[0m\u001b[0;36m1\u001b[0m\u001b[0;34m,\u001b[0m\u001b[0;36m2\u001b[0m\u001b[0;34m]\u001b[0m\u001b[0;34m\u001b[0m\u001b[0;34m\u001b[0m\u001b[0m\n\u001b[1;32m      8\u001b[0m \u001b[0mdigital_twin_triplet\u001b[0m \u001b[0;34m=\u001b[0m \u001b[0;34m[\u001b[0m\u001b[0;36m0\u001b[0m\u001b[0;34m,\u001b[0m\u001b[0;36m0\u001b[0m\u001b[0;34m,\u001b[0m\u001b[0;36m0\u001b[0m\u001b[0;34m]\u001b[0m\u001b[0;34m\u001b[0m\u001b[0;34m\u001b[0m\u001b[0m\n\u001b[0;32m----> 9\u001b[0;31m \u001b[0mupdate_digital_twin\u001b[0m\u001b[0;34m(\u001b[0m\u001b[0;34m)\u001b[0m\u001b[0;34m\u001b[0m\u001b[0;34m\u001b[0m\u001b[0m\n\u001b[0m\u001b[1;32m     10\u001b[0m \u001b[0mprint\u001b[0m\u001b[0;34m(\u001b[0m\u001b[0mdigital_twin_triplet\u001b[0m\u001b[0;34m)\u001b[0m\u001b[0;34m\u001b[0m\u001b[0;34m\u001b[0m\u001b[0m\n\u001b[1;32m     11\u001b[0m \u001b[0;31m# Generate Random Initial Triplets\u001b[0m\u001b[0;34m\u001b[0m\u001b[0;34m\u001b[0m\u001b[0;34m\u001b[0m\u001b[0m\n",
      "\u001b[0;32m<ipython-input-52-8f606d6a5cf0>\u001b[0m in \u001b[0;36mupdate_digital_twin\u001b[0;34m()\u001b[0m\n\u001b[1;32m     20\u001b[0m         \u001b[0mdigital_twin_triplet\u001b[0m\u001b[0;34m[\u001b[0m\u001b[0mi\u001b[0m\u001b[0;34m]\u001b[0m \u001b[0;34m=\u001b[0m \u001b[0mgenerate_random_triplets\u001b[0m\u001b[0;34m(\u001b[0m\u001b[0;34m)\u001b[0m\u001b[0;34m\u001b[0m\u001b[0;34m\u001b[0m\u001b[0m\n\u001b[1;32m     21\u001b[0m         \u001b[0mX\u001b[0m \u001b[0;34m=\u001b[0m \u001b[0mnp\u001b[0m\u001b[0;34m.\u001b[0m\u001b[0marray\u001b[0m\u001b[0;34m(\u001b[0m\u001b[0mdigital_twin_triplet\u001b[0m\u001b[0;34m)\u001b[0m\u001b[0;34m\u001b[0m\u001b[0;34m\u001b[0m\u001b[0m\n\u001b[0;32m---> 22\u001b[0;31m         \u001b[0my\u001b[0m \u001b[0;34m=\u001b[0m \u001b[0mnp\u001b[0m\u001b[0;34m.\u001b[0m\u001b[0mdot\u001b[0m\u001b[0;34m(\u001b[0m\u001b[0mX\u001b[0m\u001b[0;34m,\u001b[0m \u001b[0mnp\u001b[0m\u001b[0;34m.\u001b[0m\u001b[0marray\u001b[0m\u001b[0;34m(\u001b[0m\u001b[0;34m[\u001b[0m\u001b[0;36m0.5\u001b[0m\u001b[0;34m,\u001b[0m \u001b[0;36m0.050\u001b[0m\u001b[0;34m,\u001b[0m \u001b[0;36m50\u001b[0m\u001b[0;34m]\u001b[0m\u001b[0;34m)\u001b[0m\u001b[0;34m)\u001b[0m \u001b[0;31m# Need to finish least squares regression\u001b[0m\u001b[0;34m\u001b[0m\u001b[0;34m\u001b[0m\u001b[0m\n\u001b[0m\u001b[1;32m     23\u001b[0m         \u001b[0mreg\u001b[0m \u001b[0;34m=\u001b[0m \u001b[0mLinearRegression\u001b[0m\u001b[0;34m(\u001b[0m\u001b[0;34m)\u001b[0m\u001b[0;34m.\u001b[0m\u001b[0mfit\u001b[0m\u001b[0;34m(\u001b[0m\u001b[0mX\u001b[0m\u001b[0;34m,\u001b[0m \u001b[0my\u001b[0m\u001b[0;34m)\u001b[0m\u001b[0;34m\u001b[0m\u001b[0;34m\u001b[0m\u001b[0m\n\u001b[1;32m     24\u001b[0m         \u001b[0mreg\u001b[0m\u001b[0;34m.\u001b[0m\u001b[0mscore\u001b[0m\u001b[0;34m(\u001b[0m\u001b[0mX\u001b[0m\u001b[0;34m,\u001b[0m\u001b[0my\u001b[0m\u001b[0;34m)\u001b[0m\u001b[0;34m\u001b[0m\u001b[0;34m\u001b[0m\u001b[0m\n",
      "\u001b[0;32m<__array_function__ internals>\u001b[0m in \u001b[0;36mdot\u001b[0;34m(*args, **kwargs)\u001b[0m\n",
      "\u001b[0;31mTypeError\u001b[0m: can't multiply sequence by non-int of type 'float'"
     ]
    }
   ],
   "source": [
    "import random\n",
    "import numpy as np\n",
    "from sklearn.linear_model import LinearRegression\n",
    "\n",
    "\n",
    "time_final = [0,0,0]\n",
    "agent_index = [0,1,2]\n",
    "digital_twin_triplet = [0,0,0]\n",
    "update_digital_twin()\n",
    "print(digital_twin_triplet)\n",
    "# Generate Random Initial Triplets\n",
    "def generate_random_triplets():\n",
    "    random_value = random.randint(1,3) \n",
    "    if random_value == 1:\n",
    "        return (0.25, 0.025, 25)\n",
    "    if random_value == 2:\n",
    "        return (0.5, 0.050, 50)\n",
    "    if random_value == 3:\n",
    "        return (0.75, 0.075, 75)\n",
    "\n",
    "# Update Digital Twin \n",
    "def update_digital_twin():\n",
    "    # Still confused what data is being fit using least squares?\n",
    "    for i in agent_index:\n",
    "        digital_twin_triplet[i] = generate_random_triplets()\n",
    "        X = np.array(digital_twin_triplet)\n",
    "        y = np.dot(X, np.array([0.5, 0.050, 50])) # Need to finish least squares regression\n",
    "        reg = LinearRegression().fit(X, y)\n",
    "        print(reg.score(X,y))\n",
    "    "
   ]
  },
  {
   "cell_type": "code",
   "execution_count": null,
   "id": "0183acf1",
   "metadata": {},
   "outputs": [],
   "source": []
  }
 ],
 "metadata": {
  "kernelspec": {
   "display_name": "Python 3",
   "language": "python",
   "name": "python3"
  },
  "language_info": {
   "codemirror_mode": {
    "name": "ipython",
    "version": 3
   },
   "file_extension": ".py",
   "mimetype": "text/x-python",
   "name": "python",
   "nbconvert_exporter": "python",
   "pygments_lexer": "ipython3",
   "version": "3.8.10"
  }
 },
 "nbformat": 4,
 "nbformat_minor": 5
}
